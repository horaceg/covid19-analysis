{
 "cells": [
  {
   "cell_type": "code",
   "execution_count": 1,
   "metadata": {},
   "outputs": [
    {
     "ename": "ImportError",
     "evalue": "No module named pathlib",
     "output_type": "error",
     "traceback": [
      "\u001b[0;31m---------------------------------------------------------------------------\u001b[0m",
      "\u001b[0;31mImportError\u001b[0m                               Traceback (most recent call last)",
      "\u001b[0;32m<ipython-input-1-8561d26d85b5>\u001b[0m in \u001b[0;36m<module>\u001b[0;34m()\u001b[0m\n\u001b[1;32m      4\u001b[0m \u001b[0;32mimport\u001b[0m \u001b[0mjson\u001b[0m\u001b[0;34m\u001b[0m\u001b[0m\n\u001b[1;32m      5\u001b[0m \u001b[0;32mimport\u001b[0m \u001b[0mos\u001b[0m\u001b[0;34m\u001b[0m\u001b[0m\n\u001b[0;32m----> 6\u001b[0;31m \u001b[0;32mfrom\u001b[0m \u001b[0mpathlib\u001b[0m \u001b[0;32mimport\u001b[0m \u001b[0mPath\u001b[0m\u001b[0;34m\u001b[0m\u001b[0m\n\u001b[0m\u001b[1;32m      7\u001b[0m \u001b[0;34m\u001b[0m\u001b[0m\n\u001b[1;32m      8\u001b[0m \u001b[0;32mimport\u001b[0m \u001b[0mmatplotlib\u001b[0m\u001b[0;34m.\u001b[0m\u001b[0mpyplot\u001b[0m \u001b[0;32mas\u001b[0m \u001b[0mplt\u001b[0m\u001b[0;34m\u001b[0m\u001b[0m\n",
      "\u001b[0;31mImportError\u001b[0m: No module named pathlib"
     ]
    }
   ],
   "source": [
    "# %load_ext autoreload\n",
    "# %autoreload 2\n",
    "\n",
    "import json\n",
    "import os\n",
    "from pathlib import Path\n",
    "\n",
    "import matplotlib.pyplot as plt\n",
    "import numpy as np\n",
    "import requests\n",
    "import pandas as pd\n",
    "import altair as alt\n",
    "\n",
    "if os.getcwd().split('/')[-1] == 'notebooks':\n",
    "    os.chdir('..')\n",
    "\n",
    "plt.style.use('ggplot')\n",
    "alt.themes.enable('fivethirtyeight')\n",
    "CHARTS_DIR = Path('../covid19-analysis/layouts/partials/covid')"
   ]
  },
  {
   "cell_type": "code",
   "execution_count": 2,
   "metadata": {},
   "outputs": [
    {
     "data": {
      "text/html": [
       "<div>\n",
       "<style scoped>\n",
       "    .dataframe tbody tr th:only-of-type {\n",
       "        vertical-align: middle;\n",
       "    }\n",
       "\n",
       "    .dataframe tbody tr th {\n",
       "        vertical-align: top;\n",
       "    }\n",
       "\n",
       "    .dataframe thead th {\n",
       "        text-align: right;\n",
       "    }\n",
       "</style>\n",
       "<table border=\"1\" class=\"dataframe\">\n",
       "  <thead>\n",
       "    <tr style=\"text-align: right;\">\n",
       "      <th></th>\n",
       "      <th></th>\n",
       "      <th>confirmed</th>\n",
       "      <th>deaths</th>\n",
       "      <th>recovered</th>\n",
       "    </tr>\n",
       "    <tr>\n",
       "      <th>country</th>\n",
       "      <th>date</th>\n",
       "      <th></th>\n",
       "      <th></th>\n",
       "      <th></th>\n",
       "    </tr>\n",
       "  </thead>\n",
       "  <tbody>\n",
       "    <tr>\n",
       "      <th rowspan=\"5\" valign=\"top\">Afghanistan</th>\n",
       "      <th>2020-01-22</th>\n",
       "      <td>0</td>\n",
       "      <td>0</td>\n",
       "      <td>0</td>\n",
       "    </tr>\n",
       "    <tr>\n",
       "      <th>2020-01-23</th>\n",
       "      <td>0</td>\n",
       "      <td>0</td>\n",
       "      <td>0</td>\n",
       "    </tr>\n",
       "    <tr>\n",
       "      <th>2020-01-24</th>\n",
       "      <td>0</td>\n",
       "      <td>0</td>\n",
       "      <td>0</td>\n",
       "    </tr>\n",
       "    <tr>\n",
       "      <th>2020-01-25</th>\n",
       "      <td>0</td>\n",
       "      <td>0</td>\n",
       "      <td>0</td>\n",
       "    </tr>\n",
       "    <tr>\n",
       "      <th>2020-01-26</th>\n",
       "      <td>0</td>\n",
       "      <td>0</td>\n",
       "      <td>0</td>\n",
       "    </tr>\n",
       "  </tbody>\n",
       "</table>\n",
       "</div>"
      ],
      "text/latex": [
       "None"
      ],
      "text/plain": [
       "                        confirmed  deaths  recovered\n",
       "country     date                                    \n",
       "Afghanistan 2020-01-22          0       0          0\n",
       "            2020-01-23          0       0          0\n",
       "            2020-01-24          0       0          0\n",
       "            2020-01-25          0       0          0\n",
       "            2020-01-26          0       0          0"
      ]
     },
     "metadata": {},
     "output_type": "display_data"
    },
    {
     "data": {
      "text/latex": [
       "None"
      ],
      "text/plain": [
       "country      date        status   \n",
       "Afghanistan  2020-01-22  confirmed    0\n",
       "                         deaths       0\n",
       "                         recovered    0\n",
       "             2020-01-23  confirmed    0\n",
       "                         deaths       0\n",
       "Name: count, dtype: int64"
      ]
     },
     "metadata": {},
     "output_type": "display_data"
    }
   ],
   "source": [
    "from fetch import fetch_timeseries, TS_URL\n",
    "\n",
    "df = fetch_timeseries(TS_URL)\n",
    "df_long = df.stack().rename('count').rename_axis(index={None: 'status'})\n",
    "\n",
    "display(df.head())\n",
    "display(df_long.head())\n",
    "\n",
    "# Timeseries"
   ]
  },
  {
   "cell_type": "code",
   "execution_count": 3,
   "metadata": {},
   "outputs": [
    {
     "data": {
      "text/html": [
       "\n",
       "<div id=\"altair-viz-15ec0331bc79463c85ed0b12c0bf7d51\"></div>\n",
       "<script type=\"text/javascript\">\n",
       "  (function(spec, embedOpt){\n",
       "    let outputDiv = document.currentScript.previousElementSibling;\n",
       "    if (outputDiv.id !== \"altair-viz-15ec0331bc79463c85ed0b12c0bf7d51\") {\n",
       "      outputDiv = document.getElementById(\"altair-viz-15ec0331bc79463c85ed0b12c0bf7d51\");\n",
       "    }\n",
       "    const paths = {\n",
       "      \"vega\": \"https://cdn.jsdelivr.net/npm//vega@5?noext\",\n",
       "      \"vega-lib\": \"https://cdn.jsdelivr.net/npm//vega-lib?noext\",\n",
       "      \"vega-lite\": \"https://cdn.jsdelivr.net/npm//vega-lite@4.8.1?noext\",\n",
       "      \"vega-embed\": \"https://cdn.jsdelivr.net/npm//vega-embed@6?noext\",\n",
       "    };\n",
       "\n",
       "    function loadScript(lib) {\n",
       "      return new Promise(function(resolve, reject) {\n",
       "        var s = document.createElement('script');\n",
       "        s.src = paths[lib];\n",
       "        s.async = true;\n",
       "        s.onload = () => resolve(paths[lib]);\n",
       "        s.onerror = () => reject(`Error loading script: ${paths[lib]}`);\n",
       "        document.getElementsByTagName(\"head\")[0].appendChild(s);\n",
       "      });\n",
       "    }\n",
       "\n",
       "    function showError(err) {\n",
       "      outputDiv.innerHTML = `<div class=\"error\" style=\"color:red;\">${err}</div>`;\n",
       "      throw err;\n",
       "    }\n",
       "\n",
       "    function displayChart(vegaEmbed) {\n",
       "      vegaEmbed(outputDiv, spec, embedOpt)\n",
       "        .catch(err => showError(`Javascript Error: ${err.message}<br>This usually means there's a typo in your chart specification. See the javascript console for the full traceback.`));\n",
       "    }\n",
       "\n",
       "    if(typeof define === \"function\" && define.amd) {\n",
       "      requirejs.config({paths});\n",
       "      require([\"vega-embed\"], displayChart, err => showError(`Error loading script: ${err.message}`));\n",
       "    } else if (typeof vegaEmbed === \"function\") {\n",
       "      displayChart(vegaEmbed);\n",
       "    } else {\n",
       "      loadScript(\"vega\")\n",
       "        .then(() => loadScript(\"vega-lite\"))\n",
       "        .then(() => loadScript(\"vega-embed\"))\n",
       "        .catch(showError)\n",
       "        .then(() => displayChart(vegaEmbed));\n",
       "    }\n",
       "  })({\"usermeta\": {\"embedOptions\": {\"theme\": \"fivethirtyeight\"}}, \"config\": {\"view\": {\"continuousWidth\": 400, \"continuousHeight\": 300}}, \"vconcat\": [{\"data\": {\"url\": \"https://vega.github.io/vega-datasets/data/world-110m.json\", \"format\": {\"feature\": \"countries\", \"type\": \"topojson\"}}, \"mark\": {\"type\": \"geoshape\", \"stroke\": \"white\", \"strokeWidth\": 0.5}, \"encoding\": {\"color\": {\"condition\": {\"type\": \"quantitative\", \"field\": \"count\", \"scale\": {\"base\": 10, \"scheme\": \"oranges\", \"type\": \"log\"}, \"selection\": \"Country of\"}, \"value\": \"lightgray\"}, \"tooltip\": [{\"type\": \"quantitative\", \"field\": \"count\"}, {\"type\": \"nominal\", \"field\": \"country\"}, {\"type\": \"quantitative\", \"field\": \"day\"}, {\"type\": \"nominal\", \"field\": \"status\"}]}, \"height\": 400, \"selection\": {\"Country of\": {\"type\": \"single\", \"fields\": [\"country\"], \"empty\": \"all\"}, \"selector001\": {\"type\": \"single\", \"fields\": [\"status\"], \"bind\": \"legend\", \"empty\": \"all\", \"init\": {\"status\": \"confirmed\"}}}, \"title\": \"Last cumulative cases\", \"transform\": [{\"lookup\": \"id\", \"from\": {\"data\": {\"url\": \"http://localhost:16630/d214ad26c1f552eca5f80af10fff961d.json\"}, \"key\": \"id\", \"fields\": [\"confirmed\", \"recovered\", \"deaths\", \"country\", \"day\", \"date\"]}}, {\"fold\": [\"confirmed\", \"recovered\", \"deaths\"], \"as\": [\"status\", \"count\"]}, {\"filter\": {\"selection\": \"selector001\"}}], \"width\": 900}, {\"hconcat\": [{\"layer\": [{\"mark\": {\"type\": \"line\", \"point\": true}, \"encoding\": {\"color\": {\"type\": \"nominal\", \"field\": \"status\", \"scale\": {\"domain\": [\"confirmed\", \"recovered\", \"deaths\"], \"range\": [\"orange\", \"green\", \"black\"]}}, \"opacity\": {\"condition\": {\"value\": 1, \"selection\": \"selector001\"}, \"value\": 0.2}, \"x\": {\"type\": \"temporal\", \"field\": \"date\"}, \"y\": {\"type\": \"quantitative\", \"field\": \"count\"}}, \"selection\": {\"selector001\": {\"type\": \"single\", \"fields\": [\"status\"], \"bind\": \"legend\", \"empty\": \"all\", \"init\": {\"status\": \"confirmed\"}}, \"Country of\": {\"type\": \"single\", \"fields\": [\"country\"], \"empty\": \"all\"}}}, {\"mark\": \"rule\", \"encoding\": {\"opacity\": {\"condition\": {\"value\": 0.3, \"selection\": \"selector002\"}, \"value\": 0}, \"tooltip\": [{\"type\": \"quantitative\", \"field\": \"confirmed\"}, {\"type\": \"quantitative\", \"field\": \"deaths\"}, {\"type\": \"quantitative\", \"field\": \"recovered\"}], \"x\": {\"type\": \"temporal\", \"field\": \"date\"}}, \"selection\": {\"selector002\": {\"type\": \"single\", \"fields\": [\"date\"], \"nearest\": true, \"on\": \"mouseover\", \"empty\": \"none\", \"clear\": \"mouseout\"}}, \"transform\": [{\"pivot\": \"status\", \"value\": \"count\", \"groupby\": [\"date\"]}]}, {\"mark\": \"point\", \"encoding\": {\"color\": {\"type\": \"nominal\", \"field\": \"status\", \"scale\": {\"domain\": [\"confirmed\", \"recovered\", \"deaths\"], \"range\": [\"orange\", \"green\", \"black\"]}}, \"x\": {\"type\": \"temporal\", \"field\": \"date\"}, \"y\": {\"type\": \"quantitative\", \"field\": \"count\"}}, \"transform\": [{\"filter\": {\"selection\": \"selector002\"}}]}], \"data\": {\"url\": \"http://localhost:16630/6e95e4477994a8eef354c78a200db841.json\"}, \"height\": 300, \"title\": \"Cumulated cases\", \"transform\": [{\"filter\": {\"selection\": \"Country of\"}}, {\"aggregate\": [{\"op\": \"sum\", \"field\": \"count\", \"as\": \"count\"}], \"groupby\": [\"status\", \"date\"]}], \"width\": 500}, {\"data\": {\"url\": \"http://localhost:16630/f5b4f7d3f4b3172c91d5cc38f626416e.json\"}, \"mark\": {\"type\": \"bar\", \"point\": true}, \"encoding\": {\"color\": {\"type\": \"nominal\", \"field\": \"status\"}, \"opacity\": {\"condition\": {\"value\": 1, \"selection\": \"selector001\"}, \"value\": 0.2}, \"tooltip\": [{\"type\": \"quantitative\", \"field\": \"diff\"}, {\"type\": \"quantitative\", \"field\": \"diff_rel\"}, {\"type\": \"temporal\", \"field\": \"date\"}], \"x\": {\"type\": \"temporal\", \"field\": \"date\"}, \"y\": {\"type\": \"quantitative\", \"field\": \"diff\"}}, \"height\": 300, \"selection\": {\"Country of\": {\"type\": \"single\", \"fields\": [\"country\"], \"empty\": \"all\"}, \"selector001\": {\"type\": \"single\", \"fields\": [\"status\"], \"bind\": \"legend\", \"empty\": \"all\", \"init\": {\"status\": \"confirmed\"}}}, \"title\": \"New cases\", \"transform\": [{\"filter\": {\"selection\": \"Country of\"}}, {\"aggregate\": [{\"op\": \"sum\", \"field\": \"diff\", \"as\": \"diff\"}, {\"op\": \"sum\", \"field\": \"diff_rel\", \"as\": \"diff_rel\"}], \"groupby\": [\"status\", \"date\"]}, {\"filter\": {\"selection\": \"selector001\"}}], \"width\": 500}]}], \"$schema\": \"https://vega.github.io/schema/vega-lite/v4.8.1.json\"}, {\"mode\": \"vega-lite\"});\n",
       "</script>"
      ]
     },
     "execution_count": 3,
     "metadata": {},
     "output_type": "execute_result"
    }
   ],
   "source": [
    "from IPython.display import display\n",
    "from importlib import reload\n",
    "import charts\n",
    "import render\n",
    "reload(charts)\n",
    "reload(render)\n",
    "from charts import *\n",
    "from render import make_chart\n",
    "\n",
    "# alt.data_transformers.enable('default', max_rows=None)\n",
    "alt.data_transformers.enable('data_server')\n",
    "\n",
    "data_long = make_data_long(df_long)\n",
    "dod_long = make_dod(df_long).reset_index()\n",
    "\n",
    "base_ts =  (alt.Chart(data_long).encode(x='date:T'))\n",
    "selection_legend, selection_tooltip = make_ts_selections()\n",
    "ts_chart = make_ts_chart(base_ts, sorted(dod_long.status.unique()), selection_legend, selection_tooltip)\n",
    "\n",
    "map_data = make_map_data(data_long, countries)\n",
    "map_chart = make_map(map_data, status_schemes)\n",
    "\n",
    "dod_chart = make_dod_chart(dod_long)\n",
    "chart = combine_map_ts(map_chart, ts_chart, dod_chart, selection_legend)\n",
    "\n",
    "chart"
   ]
  },
  {
   "cell_type": "code",
   "execution_count": 4,
   "metadata": {},
   "outputs": [
    {
     "data": {
      "text/html": [
       "<div>\n",
       "<style scoped>\n",
       "    .dataframe tbody tr th:only-of-type {\n",
       "        vertical-align: middle;\n",
       "    }\n",
       "\n",
       "    .dataframe tbody tr th {\n",
       "        vertical-align: top;\n",
       "    }\n",
       "\n",
       "    .dataframe thead th {\n",
       "        text-align: right;\n",
       "    }\n",
       "</style>\n",
       "<table border=\"1\" class=\"dataframe\">\n",
       "  <thead>\n",
       "    <tr style=\"text-align: right;\">\n",
       "      <th>status</th>\n",
       "      <th>country</th>\n",
       "      <th>id</th>\n",
       "      <th>day</th>\n",
       "      <th>date</th>\n",
       "      <th>confirmed</th>\n",
       "      <th>deaths</th>\n",
       "      <th>recovered</th>\n",
       "    </tr>\n",
       "  </thead>\n",
       "  <tbody>\n",
       "    <tr>\n",
       "      <th>0</th>\n",
       "      <td>Afghanistan</td>\n",
       "      <td>4</td>\n",
       "      <td>95</td>\n",
       "      <td>2020-04-04</td>\n",
       "      <td>299.0</td>\n",
       "      <td>7.0</td>\n",
       "      <td>10.0</td>\n",
       "    </tr>\n",
       "    <tr>\n",
       "      <th>1</th>\n",
       "      <td>Albania</td>\n",
       "      <td>8</td>\n",
       "      <td>95</td>\n",
       "      <td>2020-04-04</td>\n",
       "      <td>333.0</td>\n",
       "      <td>20.0</td>\n",
       "      <td>99.0</td>\n",
       "    </tr>\n",
       "    <tr>\n",
       "      <th>2</th>\n",
       "      <td>Algeria</td>\n",
       "      <td>12</td>\n",
       "      <td>95</td>\n",
       "      <td>2020-04-04</td>\n",
       "      <td>1251.0</td>\n",
       "      <td>130.0</td>\n",
       "      <td>90.0</td>\n",
       "    </tr>\n",
       "    <tr>\n",
       "      <th>3</th>\n",
       "      <td>Andorra</td>\n",
       "      <td>20</td>\n",
       "      <td>95</td>\n",
       "      <td>2020-04-04</td>\n",
       "      <td>466.0</td>\n",
       "      <td>17.0</td>\n",
       "      <td>21.0</td>\n",
       "    </tr>\n",
       "    <tr>\n",
       "      <th>4</th>\n",
       "      <td>Angola</td>\n",
       "      <td>24</td>\n",
       "      <td>95</td>\n",
       "      <td>2020-04-04</td>\n",
       "      <td>10.0</td>\n",
       "      <td>2.0</td>\n",
       "      <td>2.0</td>\n",
       "    </tr>\n",
       "    <tr>\n",
       "      <th>...</th>\n",
       "      <td>...</td>\n",
       "      <td>...</td>\n",
       "      <td>...</td>\n",
       "      <td>...</td>\n",
       "      <td>...</td>\n",
       "      <td>...</td>\n",
       "      <td>...</td>\n",
       "    </tr>\n",
       "    <tr>\n",
       "      <th>171</th>\n",
       "      <td>Uzbekistan</td>\n",
       "      <td>860</td>\n",
       "      <td>95</td>\n",
       "      <td>2020-04-04</td>\n",
       "      <td>266.0</td>\n",
       "      <td>2.0</td>\n",
       "      <td>25.0</td>\n",
       "    </tr>\n",
       "    <tr>\n",
       "      <th>172</th>\n",
       "      <td>Venezuela</td>\n",
       "      <td>862</td>\n",
       "      <td>95</td>\n",
       "      <td>2020-04-04</td>\n",
       "      <td>155.0</td>\n",
       "      <td>7.0</td>\n",
       "      <td>52.0</td>\n",
       "    </tr>\n",
       "    <tr>\n",
       "      <th>173</th>\n",
       "      <td>Vietnam</td>\n",
       "      <td>704</td>\n",
       "      <td>95</td>\n",
       "      <td>2020-04-04</td>\n",
       "      <td>240.0</td>\n",
       "      <td>NaN</td>\n",
       "      <td>90.0</td>\n",
       "    </tr>\n",
       "    <tr>\n",
       "      <th>174</th>\n",
       "      <td>Zambia</td>\n",
       "      <td>894</td>\n",
       "      <td>95</td>\n",
       "      <td>2020-04-04</td>\n",
       "      <td>39.0</td>\n",
       "      <td>1.0</td>\n",
       "      <td>2.0</td>\n",
       "    </tr>\n",
       "    <tr>\n",
       "      <th>175</th>\n",
       "      <td>Zimbabwe</td>\n",
       "      <td>716</td>\n",
       "      <td>95</td>\n",
       "      <td>2020-04-04</td>\n",
       "      <td>9.0</td>\n",
       "      <td>1.0</td>\n",
       "      <td>NaN</td>\n",
       "    </tr>\n",
       "  </tbody>\n",
       "</table>\n",
       "<p>176 rows × 7 columns</p>\n",
       "</div>"
      ],
      "text/latex": [
       "None"
      ],
      "text/plain": [
       "status      country   id  day       date  confirmed  deaths  recovered\n",
       "0       Afghanistan    4   95 2020-04-04      299.0     7.0       10.0\n",
       "1           Albania    8   95 2020-04-04      333.0    20.0       99.0\n",
       "2           Algeria   12   95 2020-04-04     1251.0   130.0       90.0\n",
       "3           Andorra   20   95 2020-04-04      466.0    17.0       21.0\n",
       "4            Angola   24   95 2020-04-04       10.0     2.0        2.0\n",
       "..              ...  ...  ...        ...        ...     ...        ...\n",
       "171      Uzbekistan  860   95 2020-04-04      266.0     2.0       25.0\n",
       "172       Venezuela  862   95 2020-04-04      155.0     7.0       52.0\n",
       "173         Vietnam  704   95 2020-04-04      240.0     NaN       90.0\n",
       "174          Zambia  894   95 2020-04-04       39.0     1.0        2.0\n",
       "175        Zimbabwe  716   95 2020-04-04        9.0     1.0        NaN\n",
       "\n",
       "[176 rows x 7 columns]"
      ]
     },
     "execution_count": 4,
     "metadata": {},
     "output_type": "execute_result"
    }
   ],
   "source": [
    "(map_data\n",
    "                .set_index(['country', 'id', 'day', 'date', 'status'])\n",
    "                .unstack()\n",
    "                ['count']\n",
    "                .reset_index()\n",
    ")"
   ]
  },
  {
   "cell_type": "code",
   "execution_count": 5,
   "metadata": {},
   "outputs": [
    {
     "data": {
      "text/html": [
       "<div>\n",
       "<style scoped>\n",
       "    .dataframe tbody tr th:only-of-type {\n",
       "        vertical-align: middle;\n",
       "    }\n",
       "\n",
       "    .dataframe tbody tr th {\n",
       "        vertical-align: top;\n",
       "    }\n",
       "\n",
       "    .dataframe thead th {\n",
       "        text-align: right;\n",
       "    }\n",
       "</style>\n",
       "<table border=\"1\" class=\"dataframe\">\n",
       "  <thead>\n",
       "    <tr style=\"text-align: right;\">\n",
       "      <th></th>\n",
       "      <th>country</th>\n",
       "      <th>status</th>\n",
       "      <th>date</th>\n",
       "      <th>count</th>\n",
       "      <th>id</th>\n",
       "      <th>scheme</th>\n",
       "      <th>day</th>\n",
       "    </tr>\n",
       "  </thead>\n",
       "  <tbody>\n",
       "    <tr>\n",
       "      <th>0</th>\n",
       "      <td>Afghanistan</td>\n",
       "      <td>confirmed</td>\n",
       "      <td>2020-04-04</td>\n",
       "      <td>299.0</td>\n",
       "      <td>4</td>\n",
       "      <td>reds</td>\n",
       "      <td>95</td>\n",
       "    </tr>\n",
       "    <tr>\n",
       "      <th>1</th>\n",
       "      <td>Afghanistan</td>\n",
       "      <td>deaths</td>\n",
       "      <td>2020-04-04</td>\n",
       "      <td>7.0</td>\n",
       "      <td>4</td>\n",
       "      <td>greys</td>\n",
       "      <td>95</td>\n",
       "    </tr>\n",
       "    <tr>\n",
       "      <th>2</th>\n",
       "      <td>Afghanistan</td>\n",
       "      <td>recovered</td>\n",
       "      <td>2020-04-04</td>\n",
       "      <td>10.0</td>\n",
       "      <td>4</td>\n",
       "      <td>greens</td>\n",
       "      <td>95</td>\n",
       "    </tr>\n",
       "    <tr>\n",
       "      <th>3</th>\n",
       "      <td>Albania</td>\n",
       "      <td>confirmed</td>\n",
       "      <td>2020-04-04</td>\n",
       "      <td>333.0</td>\n",
       "      <td>8</td>\n",
       "      <td>reds</td>\n",
       "      <td>95</td>\n",
       "    </tr>\n",
       "    <tr>\n",
       "      <th>4</th>\n",
       "      <td>Albania</td>\n",
       "      <td>deaths</td>\n",
       "      <td>2020-04-04</td>\n",
       "      <td>20.0</td>\n",
       "      <td>8</td>\n",
       "      <td>greys</td>\n",
       "      <td>95</td>\n",
       "    </tr>\n",
       "    <tr>\n",
       "      <th>...</th>\n",
       "      <td>...</td>\n",
       "      <td>...</td>\n",
       "      <td>...</td>\n",
       "      <td>...</td>\n",
       "      <td>...</td>\n",
       "      <td>...</td>\n",
       "      <td>...</td>\n",
       "    </tr>\n",
       "    <tr>\n",
       "      <th>441</th>\n",
       "      <td>Zambia</td>\n",
       "      <td>confirmed</td>\n",
       "      <td>2020-04-04</td>\n",
       "      <td>39.0</td>\n",
       "      <td>894</td>\n",
       "      <td>reds</td>\n",
       "      <td>95</td>\n",
       "    </tr>\n",
       "    <tr>\n",
       "      <th>442</th>\n",
       "      <td>Zambia</td>\n",
       "      <td>deaths</td>\n",
       "      <td>2020-04-04</td>\n",
       "      <td>1.0</td>\n",
       "      <td>894</td>\n",
       "      <td>greys</td>\n",
       "      <td>95</td>\n",
       "    </tr>\n",
       "    <tr>\n",
       "      <th>443</th>\n",
       "      <td>Zambia</td>\n",
       "      <td>recovered</td>\n",
       "      <td>2020-04-04</td>\n",
       "      <td>2.0</td>\n",
       "      <td>894</td>\n",
       "      <td>greens</td>\n",
       "      <td>95</td>\n",
       "    </tr>\n",
       "    <tr>\n",
       "      <th>444</th>\n",
       "      <td>Zimbabwe</td>\n",
       "      <td>confirmed</td>\n",
       "      <td>2020-04-04</td>\n",
       "      <td>9.0</td>\n",
       "      <td>716</td>\n",
       "      <td>reds</td>\n",
       "      <td>95</td>\n",
       "    </tr>\n",
       "    <tr>\n",
       "      <th>445</th>\n",
       "      <td>Zimbabwe</td>\n",
       "      <td>deaths</td>\n",
       "      <td>2020-04-04</td>\n",
       "      <td>1.0</td>\n",
       "      <td>716</td>\n",
       "      <td>greys</td>\n",
       "      <td>95</td>\n",
       "    </tr>\n",
       "  </tbody>\n",
       "</table>\n",
       "<p>446 rows × 7 columns</p>\n",
       "</div>"
      ],
      "text/latex": [
       "None"
      ],
      "text/plain": [
       "         country     status       date  count   id  scheme  day\n",
       "0    Afghanistan  confirmed 2020-04-04  299.0    4    reds   95\n",
       "1    Afghanistan     deaths 2020-04-04    7.0    4   greys   95\n",
       "2    Afghanistan  recovered 2020-04-04   10.0    4  greens   95\n",
       "3        Albania  confirmed 2020-04-04  333.0    8    reds   95\n",
       "4        Albania     deaths 2020-04-04   20.0    8   greys   95\n",
       "..           ...        ...        ...    ...  ...     ...  ...\n",
       "441       Zambia  confirmed 2020-04-04   39.0  894    reds   95\n",
       "442       Zambia     deaths 2020-04-04    1.0  894   greys   95\n",
       "443       Zambia  recovered 2020-04-04    2.0  894  greens   95\n",
       "444     Zimbabwe  confirmed 2020-04-04    9.0  716    reds   95\n",
       "445     Zimbabwe     deaths 2020-04-04    1.0  716   greys   95\n",
       "\n",
       "[446 rows x 7 columns]"
      ]
     },
     "execution_count": 5,
     "metadata": {},
     "output_type": "execute_result"
    }
   ],
   "source": [
    "map_data"
   ]
  },
  {
   "cell_type": "markdown",
   "metadata": {},
   "source": [
    "## Attempt: day slider in heatmap"
   ]
  },
  {
   "cell_type": "code",
   "execution_count": 6,
   "metadata": {},
   "outputs": [
    {
     "data": {
      "text/html": [
       "\n",
       "<div id=\"altair-viz-c19a84c225744b7e8f19128259991d91\"></div>\n",
       "<script type=\"text/javascript\">\n",
       "  (function(spec, embedOpt){\n",
       "    let outputDiv = document.currentScript.previousElementSibling;\n",
       "    if (outputDiv.id !== \"altair-viz-c19a84c225744b7e8f19128259991d91\") {\n",
       "      outputDiv = document.getElementById(\"altair-viz-c19a84c225744b7e8f19128259991d91\");\n",
       "    }\n",
       "    const paths = {\n",
       "      \"vega\": \"https://cdn.jsdelivr.net/npm//vega@5?noext\",\n",
       "      \"vega-lib\": \"https://cdn.jsdelivr.net/npm//vega-lib?noext\",\n",
       "      \"vega-lite\": \"https://cdn.jsdelivr.net/npm//vega-lite@4.8.1?noext\",\n",
       "      \"vega-embed\": \"https://cdn.jsdelivr.net/npm//vega-embed@6?noext\",\n",
       "    };\n",
       "\n",
       "    function loadScript(lib) {\n",
       "      return new Promise(function(resolve, reject) {\n",
       "        var s = document.createElement('script');\n",
       "        s.src = paths[lib];\n",
       "        s.async = true;\n",
       "        s.onload = () => resolve(paths[lib]);\n",
       "        s.onerror = () => reject(`Error loading script: ${paths[lib]}`);\n",
       "        document.getElementsByTagName(\"head\")[0].appendChild(s);\n",
       "      });\n",
       "    }\n",
       "\n",
       "    function showError(err) {\n",
       "      outputDiv.innerHTML = `<div class=\"error\" style=\"color:red;\">${err}</div>`;\n",
       "      throw err;\n",
       "    }\n",
       "\n",
       "    function displayChart(vegaEmbed) {\n",
       "      vegaEmbed(outputDiv, spec, embedOpt)\n",
       "        .catch(err => showError(`Javascript Error: ${err.message}<br>This usually means there's a typo in your chart specification. See the javascript console for the full traceback.`));\n",
       "    }\n",
       "\n",
       "    if(typeof define === \"function\" && define.amd) {\n",
       "      requirejs.config({paths});\n",
       "      require([\"vega-embed\"], displayChart, err => showError(`Error loading script: ${err.message}`));\n",
       "    } else if (typeof vegaEmbed === \"function\") {\n",
       "      displayChart(vegaEmbed);\n",
       "    } else {\n",
       "      loadScript(\"vega\")\n",
       "        .then(() => loadScript(\"vega-lite\"))\n",
       "        .then(() => loadScript(\"vega-embed\"))\n",
       "        .catch(showError)\n",
       "        .then(() => displayChart(vegaEmbed));\n",
       "    }\n",
       "  })({\"usermeta\": {\"embedOptions\": {\"theme\": \"fivethirtyeight\"}}, \"config\": {\"view\": {\"continuousWidth\": 400, \"continuousHeight\": 300}}, \"data\": {\"url\": \"https://vega.github.io/vega-datasets/data/world-110m.json\", \"format\": {\"feature\": \"countries\", \"type\": \"topojson\"}}, \"mark\": \"geoshape\", \"encoding\": {\"color\": {\"type\": \"quantitative\", \"field\": \"count\", \"scale\": {\"scheme\": \"reds\"}}, \"tooltip\": [{\"type\": \"quantitative\", \"field\": \"count\"}, {\"type\": \"nominal\", \"field\": \"country\"}, {\"type\": \"quantitative\", \"field\": \"day\"}]}, \"selection\": {\"day\": {\"type\": \"single\", \"fields\": [\"day\"], \"bind\": {\"input\": \"range\", \"max\": 95.0, \"min\": 95.0, \"step\": 1}, \"init\": {\"day\": 95.0}}}, \"transform\": [{\"lookup\": \"id\", \"from\": {\"data\": {\"url\": \"http://localhost:16630/5f54334eb2e60e539d8cb9bec86b3091.json\"}, \"key\": \"id\", \"fields\": [\"95\"]}}, {\"fold\": [\"95\"], \"as\": [\"day\", \"count\"]}, {\"filter\": {\"selection\": \"day\"}}], \"$schema\": \"https://vega.github.io/schema/vega-lite/v4.8.1.json\"}, {\"mode\": \"vega-lite\"});\n",
       "</script>"
      ]
     },
     "execution_count": 6,
     "metadata": {},
     "output_type": "execute_result"
    }
   ],
   "source": [
    "countries = alt.topo_feature(data.world_110m.url, 'countries')\n",
    "\n",
    "china_data = map_data.query('country == \"China\"').query('status == \"confirmed\"')\n",
    "min_day = china_data.day.min()\n",
    "max_day = china_data.day.max()\n",
    "# china_data = china_data.pivot(index='fips', columns='year', values='Pill_per_pop').reset_index()\n",
    "china_data = china_data.set_index(['id', 'day'])['count'].unstack().reset_index()\n",
    "china_data.columns = china_data.columns.map(str)\n",
    "columns = list(china_data.columns.difference({'id'}))\n",
    "\n",
    "slider = alt.binding_range(min=min_day,\n",
    "                           max=max_day,\n",
    "                           step=1)\n",
    "\n",
    "select_day = alt.selection_single(name='day',\n",
    "                                   fields=['day'],\n",
    "                                   bind=slider,\n",
    "                                #   on='none',\n",
    "                                 init={'day': min_day}\n",
    "                                 )\n",
    "\n",
    "china_map = (alt\n",
    "             .Chart(countries)\n",
    "             .encode(\n",
    "                 tooltip=['count:Q', \n",
    "                          'country:N', \n",
    "                          'day:Q'])\n",
    "             .mark_geoshape()\n",
    "             .encode(\n",
    "                 color=alt.Color('count:Q', scale=alt.Scale(scheme='reds'))\n",
    "             )\n",
    "             .transform_lookup(\n",
    "                 lookup='id',\n",
    "                 from_=alt.LookupData(data=china_data,\n",
    "                                      key='id', \n",
    "                                      fields=columns)\n",
    "             ).transform_fold(\n",
    "                 columns, as_=['day', 'count']\n",
    "             ).add_selection(select_day)\n",
    "             .transform_filter(select_day)\n",
    "       )\n",
    "\n",
    "china_map"
   ]
  },
  {
   "cell_type": "code",
   "execution_count": 7,
   "metadata": {},
   "outputs": [
    {
     "data": {
      "text/html": [
       "<div>\n",
       "<style scoped>\n",
       "    .dataframe tbody tr th:only-of-type {\n",
       "        vertical-align: middle;\n",
       "    }\n",
       "\n",
       "    .dataframe tbody tr th {\n",
       "        vertical-align: top;\n",
       "    }\n",
       "\n",
       "    .dataframe thead th {\n",
       "        text-align: right;\n",
       "    }\n",
       "</style>\n",
       "<table border=\"1\" class=\"dataframe\">\n",
       "  <thead>\n",
       "    <tr style=\"text-align: right;\">\n",
       "      <th>day</th>\n",
       "      <th>id</th>\n",
       "      <th>95</th>\n",
       "    </tr>\n",
       "  </thead>\n",
       "  <tbody>\n",
       "    <tr>\n",
       "      <th>0</th>\n",
       "      <td>156</td>\n",
       "      <td>82543.0</td>\n",
       "    </tr>\n",
       "  </tbody>\n",
       "</table>\n",
       "</div>"
      ],
      "text/latex": [
       "None"
      ],
      "text/plain": [
       "day   id       95\n",
       "0    156  82543.0"
      ]
     },
     "execution_count": 7,
     "metadata": {},
     "output_type": "execute_result"
    }
   ],
   "source": [
    "china_data"
   ]
  },
  {
   "cell_type": "code",
   "execution_count": 8,
   "metadata": {},
   "outputs": [
    {
     "data": {
      "text/plain": [
       "['95']"
      ]
     },
     "execution_count": 8,
     "metadata": {},
     "output_type": "execute_result"
    }
   ],
   "source": [
    "columns"
   ]
  },
  {
   "cell_type": "code",
   "execution_count": 9,
   "metadata": {},
   "outputs": [
    {
     "data": {
      "text/plain": [
       "Index(['id', '95'], dtype='object', name='day')"
      ]
     },
     "execution_count": 9,
     "metadata": {},
     "output_type": "execute_result"
    }
   ],
   "source": [
    "china_data.columns"
   ]
  },
  {
   "cell_type": "markdown",
   "metadata": {},
   "source": [
    "# Correlations"
   ]
  },
  {
   "cell_type": "code",
   "execution_count": 10,
   "metadata": {},
   "outputs": [
    {
     "data": {
      "text/plain": [
       "<matplotlib.axes._subplots.AxesSubplot object at 0x7fb047787358>"
      ]
     },
     "execution_count": 10,
     "metadata": {},
     "output_type": "execute_result"
    }
   ],
   "source": [
    "import seaborn as sns\n",
    "\n",
    "df.groupby('country').apply(lambda f: f.fillna(method='ffill')).fillna(0).corr().pipe(sns.heatmap, annot=True)"
   ]
  },
  {
   "cell_type": "code",
   "execution_count": 11,
   "metadata": {},
   "outputs": [
    {
     "data": {
      "text/html": [
       "<div>\n",
       "<style scoped>\n",
       "    .dataframe tbody tr th:only-of-type {\n",
       "        vertical-align: middle;\n",
       "    }\n",
       "\n",
       "    .dataframe tbody tr th {\n",
       "        vertical-align: top;\n",
       "    }\n",
       "\n",
       "    .dataframe thead th {\n",
       "        text-align: right;\n",
       "    }\n",
       "</style>\n",
       "<table border=\"1\" class=\"dataframe\">\n",
       "  <thead>\n",
       "    <tr style=\"text-align: right;\">\n",
       "      <th></th>\n",
       "      <th>confirmed</th>\n",
       "      <th>deaths</th>\n",
       "      <th>recovered</th>\n",
       "    </tr>\n",
       "  </thead>\n",
       "  <tbody>\n",
       "    <tr>\n",
       "      <th>confirmed</th>\n",
       "      <td>1.000000</td>\n",
       "      <td>0.996935</td>\n",
       "      <td>0.959665</td>\n",
       "    </tr>\n",
       "    <tr>\n",
       "      <th>deaths</th>\n",
       "      <td>0.996935</td>\n",
       "      <td>1.000000</td>\n",
       "      <td>0.946758</td>\n",
       "    </tr>\n",
       "    <tr>\n",
       "      <th>recovered</th>\n",
       "      <td>0.959665</td>\n",
       "      <td>0.946758</td>\n",
       "      <td>1.000000</td>\n",
       "    </tr>\n",
       "  </tbody>\n",
       "</table>\n",
       "</div>"
      ],
      "text/latex": [
       "None"
      ],
      "text/plain": [
       "           confirmed    deaths  recovered\n",
       "confirmed   1.000000  0.996935   0.959665\n",
       "deaths      0.996935  1.000000   0.946758\n",
       "recovered   0.959665  0.946758   1.000000"
      ]
     },
     "execution_count": 11,
     "metadata": {},
     "output_type": "execute_result"
    }
   ],
   "source": [
    "df.groupby(['date']).sum().corr()"
   ]
  },
  {
   "cell_type": "code",
   "execution_count": 12,
   "metadata": {},
   "outputs": [],
   "source": [
    "def correlation_lags(df, column='deaths', max_lag=20, group=False):\n",
    "    def series_corr(f):\n",
    "        return pd.Series({t: f['confirmed'].shift(t).iloc[:-20].corr(f[column]) for t in range(max_lag)})\n",
    "    if group:\n",
    "        return df.groupby('country').apply(series_corr).idxmax(axis=1)\n",
    "    else:\n",
    "        return df.pipe(series_corr).idxmax(axis=0)\n",
    "\n",
    "world_ts = df.groupby('date').sum()\n",
    "days_to_death = correlation_lags(world_ts, 'deaths')\n",
    "days_to_recov = correlation_lags(world_ts, 'recovered')"
   ]
  },
  {
   "cell_type": "code",
   "execution_count": 13,
   "metadata": {},
   "outputs": [
    {
     "data": {
      "text/plain": [
       "(0, 19)"
      ]
     },
     "execution_count": 13,
     "metadata": {},
     "output_type": "execute_result"
    }
   ],
   "source": [
    "days_to_death, days_to_recov"
   ]
  },
  {
   "cell_type": "code",
   "execution_count": 14,
   "metadata": {},
   "outputs": [
    {
     "data": {
      "text/plain": [
       "<matplotlib.axes._subplots.AxesSubplot object at 0x7fb047787358>"
      ]
     },
     "execution_count": 14,
     "metadata": {},
     "output_type": "execute_result"
    }
   ],
   "source": [
    "fatality_rates = (df.join(correlation_lags(df, group=True, column='deaths').rename('days_to_death').fillna(0).astype(int))\n",
    "                  .groupby('country')\n",
    "                  .apply(lambda g: g.deaths.div(g.confirmed.shift(g['days_to_death'].iloc[0])))\n",
    "                  .reset_index(0, drop=True)\n",
    "                 )\n",
    "fatality_rates.groupby('date').mean().plot()"
   ]
  },
  {
   "cell_type": "code",
   "execution_count": 15,
   "metadata": {},
   "outputs": [
    {
     "data": {
      "text/plain": [
       "<matplotlib.axes._subplots.AxesSubplot object at 0x7fb047787358>"
      ]
     },
     "execution_count": 15,
     "metadata": {},
     "output_type": "execute_result"
    }
   ],
   "source": [
    "world_ts.deaths.div(world_ts.confirmed.shift(days_to_death)).plot()"
   ]
  }
 ],
 "metadata": {
  "kernelspec": {
   "display_name": "Python 2",
   "language": "python",
   "name": "python2"
  },
  "language_info": {
   "codemirror_mode": {
    "name": "ipython",
    "version": 2
   },
   "file_extension": ".py",
   "mimetype": "text/x-python",
   "name": "python",
   "nbconvert_exporter": "python",
   "pygments_lexer": "ipython2",
   "version": "2.7.17"
  }
 },
 "nbformat": 4,
 "nbformat_minor": 4
}
